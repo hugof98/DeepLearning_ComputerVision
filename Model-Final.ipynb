{
 "cells": [
  {
   "cell_type": "markdown",
   "id": "45f8cc7d",
   "metadata": {},
   "source": [
    "# Deep Learning - Alzheimer's prediction\n",
    "\n",
    "This notebook aims to create a deep learning model that allows us to predict the stage of alzheimer's disease in MRI scan photos \n",
    "\n",
    "Bellow are the imports"
   ]
  },
  {
   "cell_type": "code",
   "execution_count": 1,
   "id": "9fd608b6-8e5c-4a05-a03f-574998994a58",
   "metadata": {},
   "outputs": [],
   "source": [
    "import numpy as np\n",
    "import pandas as pd\n",
    "\n",
    "import tensorflow as tf\n",
    "import matplotlib.pyplot as plt\n",
    "import seaborn as sns\n",
    "\n",
    "import os\n",
    "from distutils.dir_util import copy_tree, remove_tree\n",
    "\n",
    "from PIL import Image\n",
    "from random import randint\n",
    "\n",
    "from imblearn.over_sampling import SMOTE\n",
    "from sklearn.model_selection import train_test_split\n",
    "\n",
    "\n",
    "from tensorflow.keras import Sequential, Input\n",
    "from tensorflow.keras.layers import Dense, Dropout\n",
    "from tensorflow.keras.layers import Conv2D, Flatten\n",
    "from tensorflow.keras.callbacks import EarlyStopping\n",
    "from tensorflow.keras.preprocessing.image import ImageDataGenerator as IDG\n",
    "\n",
    "\n",
    "from tensorflow.keras import models\n",
    "from tensorflow.keras import layers\n",
    "from tensorflow.keras.preprocessing.image import ImageDataGenerator\n",
    "from tensorflow.keras import optimizers\n",
    "import matplotlib.pyplot as plt\n",
    "import keras"
   ]
  },
  {
   "cell_type": "markdown",
   "id": "301e1db5",
   "metadata": {},
   "source": [
    "### Data preprocessing\n",
    "\n",
    "We used the preprocessing of an existent project, as there are a lot of projects that explore this topic. Our main goal is the development of a trained model, and not cleaning or preprocessing data itself."
   ]
  },
  {
   "cell_type": "code",
   "execution_count": 2,
   "id": "59ea9042-e8d6-4b51-8a86-94ec9af93a83",
   "metadata": {},
   "outputs": [
    {
     "name": "stdout",
     "output_type": "stream",
     "text": [
      "Found 6400 images belonging to 4 classes.\n"
     ]
    }
   ],
   "source": [
    "base_dir = \"Alzheimer_s Dataset/\"\n",
    "root_dir = \"./\"\n",
    "test_dir = base_dir + \"test/\"\n",
    "train_dir = base_dir + \"train/\"\n",
    "work_dir = root_dir + \"dataset/\"\n",
    "\n",
    "if os.path.exists(work_dir):\n",
    "    remove_tree(work_dir)\n",
    "    \n",
    "os.mkdir(work_dir)\n",
    "copy_tree(train_dir, work_dir)\n",
    "copy_tree(test_dir, work_dir)\n",
    "WORK_DIR = './dataset/'\n",
    "\n",
    "CLASSES = [ 'NonDemented',\n",
    "            'VeryMildDemented',\n",
    "            'MildDemented',\n",
    "            'ModerateDemented']\n",
    "\n",
    "IMG_SIZE = 176\n",
    "IMAGE_SIZE = [176, 176]\n",
    "DIM = (IMG_SIZE, IMG_SIZE)\n",
    "ZOOM = [.99, 1.01]\n",
    "BRIGHT_RANGE = [0.8, 1.2]\n",
    "HORZ_FLIP = True\n",
    "FILL_MODE = \"constant\"\n",
    "DATA_FORMAT = \"channels_last\"\n",
    "\n",
    "work_dr = IDG(rescale = 1./255, brightness_range=BRIGHT_RANGE, zoom_range=ZOOM, data_format=DATA_FORMAT, fill_mode=FILL_MODE, horizontal_flip=HORZ_FLIP)\n",
    "\n",
    "train_data_gen = work_dr.flow_from_directory(directory=WORK_DIR, target_size=DIM, batch_size=6500, shuffle=False)"
   ]
  },
  {
   "cell_type": "markdown",
   "id": "463540dc",
   "metadata": {
    "tags": []
   },
   "source": [
    "### SMOTE\n",
    "\n",
    "In order to balance the dataset, we are creating extra class samples, by resampling and reshaping images already existent in our dataset"
   ]
  },
  {
   "cell_type": "code",
   "execution_count": 3,
   "id": "cf1a52b3-0e30-4c65-92b4-044e4856087e",
   "metadata": {},
   "outputs": [],
   "source": [
    "train_data, train_labels = train_data_gen.next()\n",
    "\n",
    "train_data, test_data, train_labels, test_labels = train_test_split(train_data, train_labels, test_size = 0.2, random_state=42)\n",
    "train_data, val_data, train_labels, val_labels = train_test_split(train_data, train_labels, test_size = 0.2, random_state=42)\n",
    "\n",
    "sm = SMOTE(random_state=42)\n",
    "\n",
    "train_data, train_labels = sm.fit_resample(train_data.reshape(-1, IMG_SIZE * IMG_SIZE * 3), train_labels)\n",
    "\n",
    "train_data = train_data.reshape(-1, IMG_SIZE, IMG_SIZE, 3)"
   ]
  },
  {
   "cell_type": "code",
   "execution_count": 4,
   "id": "fbec6651-f5f8-4f45-9c92-7ec8206013b4",
   "metadata": {},
   "outputs": [],
   "source": [
    "#train_data, test_data, train_labels, test_labels = train_test_split(train_data, train_labels, test_size = 0.2, random_state=42)\n",
    "#train_data, val_data, train_labels, val_labels = train_test_split(train_data, train_labels, test_size = 0.2, random_state=42)"
   ]
  },
  {
   "cell_type": "markdown",
   "id": "5da65213",
   "metadata": {},
   "source": [
    "### Model Training\n",
    "\n",
    "We are using a CNN model, as these are the best to classify images. We started with a simple model similar to the one in class, and added layers, changing paddings, in order to achieve the best results. In the very first iteration of this project, which was a direct copy paste from class, we had 32% accuracy."
   ]
  },
  {
   "cell_type": "code",
   "execution_count": 5,
   "id": "a53775ee-f7cf-4db2-a06b-a4a08ac06d3d",
   "metadata": {},
   "outputs": [],
   "source": [
    "model = models.Sequential()\n",
    "model.add(layers.Conv2D(16, (3, 3), activation = 'relu', padding = 'same', input_shape = (176,176,3)))\n",
    "model.add(layers.MaxPooling2D(2, 2))\n",
    "model.add(Dropout(0.1))\n",
    "model.add(layers.Conv2D(32, (3, 3), activation = 'relu', padding = 'same'))\n",
    "model.add(layers.MaxPooling2D(2, 2))\n",
    "model.add(Dropout(0.1))\n",
    "model.add(layers.Conv2D(64, (3, 3), activation = 'relu', padding = 'same'))\n",
    "model.add(layers.MaxPooling2D(2, 2))\n",
    "model.add(Dropout(0.1))\n",
    "model.add(layers.Conv2D(128, (3, 3), activation = 'relu', padding = 'same'))\n",
    "model.add(layers.MaxPooling2D(2, 2))\n",
    "model.add(Dropout(0.5))\n",
    "model.add(layers.Flatten())\n",
    "model.add(Dense(units = 4, activation = 'softmax'))"
   ]
  },
  {
   "cell_type": "code",
   "execution_count": 6,
   "id": "91139b6d-d65e-40fd-8c6a-93893377e5ab",
   "metadata": {},
   "outputs": [],
   "source": [
    "model.compile(optimizer='adam', loss = \"categorical_crossentropy\" , metrics=['acc'])"
   ]
  },
  {
   "cell_type": "code",
   "execution_count": 7,
   "id": "401f9514-29fe-40be-a23f-b9c2a1e12573",
   "metadata": {},
   "outputs": [],
   "source": [
    "def scheduler(epoch, lr):\n",
    "    if epoch < 10:\n",
    "        return lr\n",
    "    else:\n",
    "        return lr * tf.math.exp(-0.1)"
   ]
  },
  {
   "cell_type": "code",
   "execution_count": 8,
   "id": "1b7c33d4-e947-4366-a5ea-e90cd2d632db",
   "metadata": {},
   "outputs": [],
   "source": [
    "EarlyStopping = tf.keras.callbacks.EarlyStopping(monitor='loss', patience=3)\n",
    "LearningRateScheduler = tf.keras.callbacks.LearningRateScheduler(scheduler)"
   ]
  },
  {
   "cell_type": "code",
   "execution_count": 9,
   "id": "ab2b772e-375c-4bda-96b1-f7fb9d94c3c2",
   "metadata": {},
   "outputs": [
    {
     "name": "stdout",
     "output_type": "stream",
     "text": [
      "Epoch 1/100\n",
      "255/255 [==============================] - 52s 202ms/step - loss: 1.1795 - acc: 0.4335 - val_loss: 1.0414 - val_acc: 0.5439\n",
      "Epoch 2/100\n",
      "255/255 [==============================] - 51s 199ms/step - loss: 0.7287 - acc: 0.6942 - val_loss: 0.9386 - val_acc: 0.5771\n",
      "Epoch 3/100\n",
      "255/255 [==============================] - 51s 199ms/step - loss: 0.5749 - acc: 0.7592 - val_loss: 0.7042 - val_acc: 0.6865\n",
      "Epoch 4/100\n",
      "255/255 [==============================] - 51s 199ms/step - loss: 0.4778 - acc: 0.8012 - val_loss: 0.7243 - val_acc: 0.6689\n",
      "Epoch 5/100\n",
      "255/255 [==============================] - 51s 199ms/step - loss: 0.4235 - acc: 0.8280 - val_loss: 0.6704 - val_acc: 0.7148\n",
      "Epoch 6/100\n",
      "255/255 [==============================] - 52s 204ms/step - loss: 0.3723 - acc: 0.8479 - val_loss: 0.6792 - val_acc: 0.7041\n",
      "Epoch 7/100\n",
      "255/255 [==============================] - 51s 202ms/step - loss: 0.3193 - acc: 0.8701 - val_loss: 0.5766 - val_acc: 0.7588\n",
      "Epoch 8/100\n",
      "255/255 [==============================] - 51s 199ms/step - loss: 0.3043 - acc: 0.8752 - val_loss: 0.5688 - val_acc: 0.7656\n",
      "Epoch 9/100\n",
      "255/255 [==============================] - 51s 199ms/step - loss: 0.2640 - acc: 0.8989 - val_loss: 0.4952 - val_acc: 0.8135\n",
      "Epoch 10/100\n",
      "255/255 [==============================] - 51s 199ms/step - loss: 0.2477 - acc: 0.9027 - val_loss: 0.4804 - val_acc: 0.8115\n",
      "Epoch 11/100\n",
      "255/255 [==============================] - 51s 199ms/step - loss: 0.2218 - acc: 0.9138 - val_loss: 0.4976 - val_acc: 0.8018\n",
      "Epoch 12/100\n",
      "255/255 [==============================] - 51s 199ms/step - loss: 0.2072 - acc: 0.9203 - val_loss: 0.5039 - val_acc: 0.7881\n",
      "Epoch 13/100\n",
      "255/255 [==============================] - 51s 199ms/step - loss: 0.1852 - acc: 0.9274 - val_loss: 0.4760 - val_acc: 0.8145\n",
      "Epoch 14/100\n",
      "255/255 [==============================] - 51s 198ms/step - loss: 0.1703 - acc: 0.9341 - val_loss: 0.4335 - val_acc: 0.8340\n",
      "Epoch 15/100\n",
      "255/255 [==============================] - 51s 199ms/step - loss: 0.1560 - acc: 0.9402 - val_loss: 0.4767 - val_acc: 0.8037\n",
      "Epoch 16/100\n",
      "255/255 [==============================] - 51s 199ms/step - loss: 0.1617 - acc: 0.9388 - val_loss: 0.4116 - val_acc: 0.8389\n",
      "Epoch 17/100\n",
      "255/255 [==============================] - 51s 200ms/step - loss: 0.1450 - acc: 0.9465 - val_loss: 0.4035 - val_acc: 0.8506\n",
      "Epoch 18/100\n",
      "255/255 [==============================] - 51s 200ms/step - loss: 0.1265 - acc: 0.9506 - val_loss: 0.4274 - val_acc: 0.8418\n",
      "Epoch 19/100\n",
      "255/255 [==============================] - 51s 199ms/step - loss: 0.1369 - acc: 0.9465 - val_loss: 0.4149 - val_acc: 0.8457\n",
      "Epoch 20/100\n",
      "255/255 [==============================] - 51s 199ms/step - loss: 0.1293 - acc: 0.9520 - val_loss: 0.4573 - val_acc: 0.8350\n",
      "Epoch 21/100\n",
      "255/255 [==============================] - 51s 198ms/step - loss: 0.1203 - acc: 0.9563 - val_loss: 0.4216 - val_acc: 0.8457\n",
      "Epoch 22/100\n",
      "255/255 [==============================] - 51s 198ms/step - loss: 0.1217 - acc: 0.9551 - val_loss: 0.4318 - val_acc: 0.8389\n",
      "Epoch 23/100\n",
      "255/255 [==============================] - 51s 199ms/step - loss: 0.1255 - acc: 0.9543 - val_loss: 0.4021 - val_acc: 0.8516\n",
      "Epoch 24/100\n",
      "255/255 [==============================] - 51s 199ms/step - loss: 0.1055 - acc: 0.9610 - val_loss: 0.4488 - val_acc: 0.8506\n",
      "Epoch 25/100\n",
      "255/255 [==============================] - 51s 199ms/step - loss: 0.1133 - acc: 0.9589 - val_loss: 0.3980 - val_acc: 0.8652\n",
      "Epoch 26/100\n",
      "255/255 [==============================] - 51s 199ms/step - loss: 0.0952 - acc: 0.9636 - val_loss: 0.5047 - val_acc: 0.8301\n",
      "Epoch 27/100\n",
      "255/255 [==============================] - 51s 199ms/step - loss: 0.1009 - acc: 0.9619 - val_loss: 0.3895 - val_acc: 0.8652\n",
      "Epoch 28/100\n",
      "255/255 [==============================] - 51s 199ms/step - loss: 0.1155 - acc: 0.9586 - val_loss: 0.3749 - val_acc: 0.8643\n",
      "Epoch 29/100\n",
      "255/255 [==============================] - 51s 198ms/step - loss: 0.0894 - acc: 0.9674 - val_loss: 0.3977 - val_acc: 0.8613\n",
      "Epoch 30/100\n",
      "255/255 [==============================] - 51s 198ms/step - loss: 0.1049 - acc: 0.9616 - val_loss: 0.3960 - val_acc: 0.8711\n",
      "Epoch 31/100\n",
      "255/255 [==============================] - 51s 199ms/step - loss: 0.0891 - acc: 0.9684 - val_loss: 0.4218 - val_acc: 0.8604\n",
      "Epoch 32/100\n",
      "255/255 [==============================] - 51s 198ms/step - loss: 0.0917 - acc: 0.9675 - val_loss: 0.4980 - val_acc: 0.8398\n",
      "Epoch 33/100\n",
      "255/255 [==============================] - 51s 198ms/step - loss: 0.0830 - acc: 0.9712 - val_loss: 0.5063 - val_acc: 0.8311\n",
      "Epoch 34/100\n",
      "255/255 [==============================] - 51s 199ms/step - loss: 0.0854 - acc: 0.9682 - val_loss: 0.4678 - val_acc: 0.8555\n",
      "Epoch 35/100\n",
      "255/255 [==============================] - 51s 198ms/step - loss: 0.0886 - acc: 0.9673 - val_loss: 0.4560 - val_acc: 0.8438\n",
      "Epoch 36/100\n",
      "255/255 [==============================] - 51s 199ms/step - loss: 0.0854 - acc: 0.9675 - val_loss: 0.3848 - val_acc: 0.8779\n"
     ]
    }
   ],
   "source": [
    "history = model.fit(train_data, train_labels, validation_data=(val_data, val_labels), epochs=100, callbacks=[EarlyStopping])"
   ]
  },
  {
   "cell_type": "markdown",
   "id": "f621b9a4",
   "metadata": {},
   "source": [
    "### Results\n",
    "\n",
    "We ploted the graphs for both accuracy and loss of both training and accuracy, to see the tendency"
   ]
  },
  {
   "cell_type": "code",
   "execution_count": 10,
   "id": "e67e64db-bc20-43c8-8834-81bf96da6dd9",
   "metadata": {},
   "outputs": [
    {
     "data": {
      "image/png": "[encoded data removed]",
      "text/plain": [
       "<Figure size 432x288 with 1 Axes>"
      ]
     },
     "metadata": {
      "needs_background": "light"
     },
     "output_type": "display_data"
    },
    {
     "data": {
      "image/png": "[encoded data removed]",
      "text/plain": [
       "<Figure size 432x288 with 1 Axes>"
      ]
     },
     "metadata": {
      "needs_background": "light"
     },
     "output_type": "display_data"
    }
   ],
   "source": [
    "acc = history.history['acc'] \n",
    "val_acc = history.history['val_acc']\n",
    "loss = history.history['loss']\n",
    "val_loss = history.history['val_loss']\n",
    "\n",
    "epochs = range(1, len(acc) + 1)\n",
    "\n",
    "plt.plot(epochs, acc, 'bo', label = 'Training acc')\n",
    "plt.plot(epochs, val_acc, 'b', label = 'Validation acc')\n",
    "plt.title('Training and Validation accuracy')\n",
    "plt.legend()\n",
    "\n",
    "plt.figure()\n",
    "\n",
    "plt.plot(epochs, loss, 'bo', label='Training loss')\n",
    "plt.plot(epochs, val_loss, 'b', label= 'validation loss')\n",
    "plt.title('Training and Validation loss')\n",
    "plt.legend()\n",
    "\n",
    "plt.show()"
   ]
  },
  {
   "cell_type": "markdown",
   "id": "8aaf0694",
   "metadata": {},
   "source": [
    "### Model evaluation with test\n",
    "\n",
    "Lastly, we will evaluate the accuracy of our model using the test data."
   ]
  },
  {
   "cell_type": "code",
   "execution_count": 13,
   "id": "6315d969-d528-42a5-841f-3114038614b7",
   "metadata": {},
   "outputs": [
    {
     "name": "stdout",
     "output_type": "stream",
     "text": [
      "40/40 [==============================] - 2s 39ms/step - loss: 0.3774 - acc: 0.8813\n"
     ]
    },
    {
     "data": {
      "text/plain": [
       "[0.3774343430995941, 0.8812500238418579]"
      ]
     },
     "execution_count": 13,
     "metadata": {},
     "output_type": "execute_result"
    }
   ],
   "source": [
    "model.evaluate(test_data,test_labels)"
   ]
  }
 ],
 "metadata": {
  "kernelspec": {
   "display_name": "Python 3 (ipykernel)",
   "language": "python",
   "name": "python3"
  },
  "language_info": {
   "codemirror_mode": {
    "name": "ipython",
    "version": 3
   },
   "file_extension": ".py",
   "mimetype": "text/x-python",
   "name": "python",
   "nbconvert_exporter": "python",
   "pygments_lexer": "ipython3",
   "version": "3.8.13"
  }
 },
 "nbformat": 4,
 "nbformat_minor": 5
}
